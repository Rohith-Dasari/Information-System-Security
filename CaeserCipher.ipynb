{
  "nbformat": 4,
  "nbformat_minor": 0,
  "metadata": {
    "colab": {
      "provenance": []
    },
    "kernelspec": {
      "name": "python3",
      "display_name": "Python 3"
    },
    "language_info": {
      "name": "python"
    }
  },
  "cells": [
    {
      "cell_type": "code",
      "source": [
        "def encrypt(text, key=3):\n",
        "  result=\"\"\n",
        "  text=text.lower()\n",
        "  for i in range (len(text)):\n",
        "    char=text[i]\n",
        "    result=result+chr(((ord(char)-97)+key)%26 +97)\n",
        "  return result\n"
      ],
      "metadata": {
        "id": "kYPYQe-e49qQ"
      },
      "execution_count": 10,
      "outputs": []
    },
    {
      "cell_type": "code",
      "source": [
        "def decrypt(text, key=3):\n",
        "  result=\"\"\n",
        "  for i in range(len(text)):\n",
        "    char=text[i]\n",
        "    result=result+chr(((ord(char)-97)-key)%26+97)\n",
        "  return result"
      ],
      "metadata": {
        "id": "MnUGsgf17xOd"
      },
      "execution_count": 11,
      "outputs": []
    },
    {
      "cell_type": "code",
      "execution_count": 13,
      "metadata": {
        "colab": {
          "base_uri": "https://localhost:8080/"
        },
        "id": "L55YbNCQ4W3E",
        "outputId": "548a6e7e-67c8-4645-ce1a-74d59b3755ba"
      },
      "outputs": [
        {
          "output_type": "stream",
          "name": "stdout",
          "text": [
            "enter your input: rohith\n",
            "The encrypted text is urklwk\n"
          ]
        }
      ],
      "source": [
        "string= input(\"enter your input: \")\n",
        "encrypted_text=encrypt(string)\n",
        "print(f\"The encrypted text is {encrypted_text}\")"
      ]
    },
    {
      "cell_type": "code",
      "source": [
        "decrypted_text=decrypt(encrypted_text)\n",
        "print(f\"The decrypted text is {decrypted_text}\")"
      ],
      "metadata": {
        "colab": {
          "base_uri": "https://localhost:8080/"
        },
        "id": "oAS0YyTH8bp0",
        "outputId": "5a95142d-ebe5-4229-a65f-4b4c20d933c4"
      },
      "execution_count": 14,
      "outputs": [
        {
          "output_type": "stream",
          "name": "stdout",
          "text": [
            "The decrypted text is rohith\n"
          ]
        }
      ]
    }
  ]
}