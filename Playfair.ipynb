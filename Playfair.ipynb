{
  "nbformat": 4,
  "nbformat_minor": 0,
  "metadata": {
    "colab": {
      "provenance": []
    },
    "kernelspec": {
      "name": "python3",
      "display_name": "Python 3"
    },
    "language_info": {
      "name": "python"
    }
  },
  "cells": [
    {
      "cell_type": "code",
      "execution_count": null,
      "metadata": {
        "id": "FgR7xpBq9umq"
      },
      "outputs": [],
      "source": [
        "def removeSpaces(text):\n",
        "    newText = \"\"\n",
        "    for i in text:\n",
        "        if i == \" \":\n",
        "            continue\n",
        "        else:\n",
        "            newText = newText + i\n",
        "    return newText"
      ]
    },
    {
      "cell_type": "code",
      "source": [
        "def Diagraph(text):\n",
        "    Diagraph = []\n",
        "    group = 0\n",
        "    for i in range(2, len(text), 2):\n",
        "        Diagraph.append(text[group:i])\n",
        "\n",
        "        group = i\n",
        "    Diagraph.append(text[group:])\n",
        "    return Diagraph"
      ],
      "metadata": {
        "id": "ObXHXVf04muE"
      },
      "execution_count": null,
      "outputs": []
    },
    {
      "cell_type": "code",
      "source": [
        "def FillerLetter(text):\n",
        "    k = len(text)\n",
        "    if k % 2 == 0:\n",
        "        for i in range(0, k, 2):\n",
        "            if text[i] == text[i+1]:\n",
        "                new_word = text[0:i+1] + str('x') + text[i+1:]\n",
        "                new_word = FillerLetter(new_word)\n",
        "                break\n",
        "            else:\n",
        "                new_word = text\n",
        "    else:\n",
        "        for i in range(0, k-1, 2):\n",
        "            if text[i] == text[i+1]:\n",
        "                new_word = text[0:i+1] + str('x') + text[i+1:]\n",
        "                new_word = FillerLetter(new_word)\n",
        "                break\n",
        "            else:\n",
        "                new_word = text\n",
        "    return new_word\n",
        "\n",
        "list1 = ['a', 'b', 'c', 'd', 'e', 'f', 'g', 'h', 'i', 'k', 'l', 'm',\n",
        "         'n', 'o', 'p', 'q', 'r', 's', 't', 'u', 'v', 'w', 'x', 'y', 'z']"
      ],
      "metadata": {
        "id": "NVD7sCil4nL9"
      },
      "execution_count": null,
      "outputs": []
    },
    {
      "cell_type": "code",
      "source": [
        "def generateKeyTable(word, list1):\n",
        "    key_letters = []\n",
        "    for i in word:\n",
        "        if i not in key_letters:\n",
        "            key_letters.append(i)\n",
        "\n",
        "    compElements = []\n",
        "    for i in key_letters:\n",
        "        if i not in compElements:\n",
        "            compElements.append(i)\n",
        "    for i in list1:\n",
        "        if i not in compElements:\n",
        "            compElements.append(i)\n",
        "\n",
        "    matrix = []\n",
        "    while compElements != []:\n",
        "        matrix.append(compElements[:5])\n",
        "        compElements = compElements[5:]\n",
        "\n",
        "    return matrix"
      ],
      "metadata": {
        "id": "krQ3T5OO4uvy"
      },
      "execution_count": null,
      "outputs": []
    },
    {
      "cell_type": "code",
      "source": [
        "def search(mat, element):\n",
        "    for i in range(5):\n",
        "        for j in range(5):\n",
        "            if(mat[i][j] == element):\n",
        "                return i, j"
      ],
      "metadata": {
        "id": "34pUHLHm5-gG"
      },
      "execution_count": null,
      "outputs": []
    },
    {
      "cell_type": "code",
      "source": [
        "def encrypt_RowRule(matr, e1r, e1c, e2r, e2c):\n",
        "    char1 = ''\n",
        "    if e1c == 4:\n",
        "        char1 = matr[e1r][0]\n",
        "    else:\n",
        "        char1 = matr[e1r][e1c+1]\n",
        "\n",
        "    char2 = ''\n",
        "    if e2c == 4:\n",
        "        char2 = matr[e2r][0]\n",
        "    else:\n",
        "        char2 = matr[e2r][e2c+1]\n",
        "\n",
        "    return char1, char2\n",
        "\n",
        "\n",
        "def encrypt_ColumnRule(matr, e1r, e1c, e2r, e2c):\n",
        "    char1 = ''\n",
        "    if e1r == 4:\n",
        "        char1 = matr[0][e1c]\n",
        "    else:\n",
        "        char1 = matr[e1r+1][e1c]\n",
        "\n",
        "    char2 = ''\n",
        "    if e2r == 4:\n",
        "        char2 = matr[0][e2c]\n",
        "    else:\n",
        "        char2 = matr[e2r+1][e2c]\n",
        "\n",
        "    return char1, char2\n",
        "\n",
        "\n",
        "def encrypt_RectangleRule(matr, e1r, e1c, e2r, e2c):\n",
        "    char1 = ''\n",
        "    char1 = matr[e1r][e2c]\n",
        "\n",
        "    char2 = ''\n",
        "    char2 = matr[e2r][e1c]\n",
        "\n",
        "    return char1, char2"
      ],
      "metadata": {
        "id": "XGei4ZE641gZ"
      },
      "execution_count": null,
      "outputs": []
    },
    {
      "cell_type": "code",
      "source": [
        "def encryptByPlayfairCipher(Matrix, plainList):\n",
        "    CipherText = []\n",
        "    for i in range(0, len(plainList)):\n",
        "        c1 = 0\n",
        "        c2 = 0\n",
        "        ele1_x, ele1_y = search(Matrix, plainList[i][0])\n",
        "        ele2_x, ele2_y = search(Matrix, plainList[i][1])\n",
        "\n",
        "        if ele1_x == ele2_x:\n",
        "            c1, c2 = encrypt_RowRule(Matrix, ele1_x, ele1_y, ele2_x, ele2_y)\n",
        "        elif ele1_y == ele2_y:\n",
        "            c1, c2 = encrypt_ColumnRule(Matrix, ele1_x, ele1_y, ele2_x, ele2_y)\n",
        "        else:\n",
        "            c1, c2 = encrypt_RectangleRule(\n",
        "                Matrix, ele1_x, ele1_y, ele2_x, ele2_y)\n",
        "\n",
        "        cipher = c1 + c2\n",
        "        CipherText.append(cipher)\n",
        "    return CipherText"
      ],
      "metadata": {
        "id": "Z5dyel6U4-4K"
      },
      "execution_count": null,
      "outputs": []
    },
    {
      "cell_type": "code",
      "source": [
        "text_Plain = input('enter the text: ')\n",
        "text_Plain = removeSpaces(text_Plain.lower())\n",
        "PlainTextList = Diagraph(FillerLetter(text_Plain))\n",
        "if len(PlainTextList[-1]) != 2:\n",
        "    PlainTextList[-1] = PlainTextList[-1]+'z'\n",
        "print(\"Digraph list\",PlainTextList)\n",
        "key = input(\"enter the key: \")\n",
        "key = key.lower()\n",
        "\n",
        "Matrix = generateKeyTable(key, list1)\n",
        "print(Matrix)\n",
        "CipherList = encryptByPlayfairCipher(Matrix, PlainTextList)\n",
        "\n",
        "CipherText = \"\"\n",
        "for i in CipherList:\n",
        "    CipherText += i\n",
        "print(\"CipherText:\", CipherText)"
      ],
      "metadata": {
        "colab": {
          "base_uri": "https://localhost:8080/"
        },
        "id": "jTDQtF355K9H",
        "outputId": "074f0c79-e6e3-4fa9-ce09-7c037e40151a"
      },
      "execution_count": null,
      "outputs": [
        {
          "output_type": "stream",
          "name": "stdout",
          "text": [
            "enter the text: rohith\n",
            "Digraph list ['ro', 'hi', 'th']\n",
            "enter the key: uday\n",
            "[['u', 'd', 'a', 'y', 'b'], ['c', 'e', 'f', 'g', 'h'], ['i', 'k', 'l', 'm', 'n'], ['o', 'p', 'q', 'r', 's'], ['t', 'v', 'w', 'x', 'z']]\n",
            "CipherText: spcnzc\n"
          ]
        }
      ]
    }
  ]
}